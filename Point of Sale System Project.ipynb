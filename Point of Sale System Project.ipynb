{
 "cells": [
  {
   "cell_type": "markdown",
   "id": "a8426093-a897-4e69-80dd-ec8f0e2651f6",
   "metadata": {},
   "source": [
    "# IFQ718 Assignment 2"
   ]
  },
  {
   "cell_type": "markdown",
   "id": "abaaa7be-4e99-4755-a57b-cd26f78336d9",
   "metadata": {},
   "source": [
    "---\n",
    "\n",
    "## Questions\n",
    "\n",
    "Select any three"
   ]
  },
  {
   "cell_type": "markdown",
   "id": "30e95bed-04ac-4ba6-b5a7-8c13060abe9a",
   "metadata": {},
   "source": [
    "1. What is the profit of each business per year?\n",
    "\n",
    "2. Which product generated the most profit for each business per year?\n",
    "\n",
    "3. What was the most popular product for each business in each year?\n",
    "\n",
    "4. Are there periods of the year where some businesses are more profitable?\n",
    "\n",
    "5. What were the most utilised promotions for each business?\n",
    "\n",
    "6. Which customers were most loyal for each business?\n",
    "\n",
    "7. What is the total expenditure of loyal customers compared to one-off customers?\n",
    "\n",
    "8. What is the employee turnover rate of each business?\n",
    "\n",
    "9. How much has inflation impacted the profit margin of each business?\n",
    "\n",
    "10. What is the impact of seasonal fluctuations on each business?"
   ]
  },
  {
   "cell_type": "markdown",
   "id": "330e2d0b-4ab5-4764-a2a1-b5019c052257",
   "metadata": {},
   "source": [
    "---\n",
    "\n",
    "## Getting started\n",
    "\n",
    "We have provided some code below to get you started"
   ]
  },
  {
   "cell_type": "code",
   "execution_count": 3,
   "id": "3adbff0c-bbd5-484a-86f6-c29fced396cb",
   "metadata": {},
   "outputs": [],
   "source": [
    "# Run this cell to begin working with this Notebook\n",
    "# Please make any modifications to suit your needs\n",
    "\n",
    "import os\n",
    "import csv\n",
    "import json\n",
    "import glob\n",
    "import json\n",
    "from collections import defaultdict\n",
    "from datetime import datetime"
   ]
  },
  {
   "cell_type": "markdown",
   "id": "15e7d37e-35f2-4661-b093-a2fdca52efe1",
   "metadata": {},
   "source": [
    "---\n",
    "\n",
    "# Preparations"
   ]
  },
  {
   "cell_type": "markdown",
   "id": "f9ad4502-9ac0-409c-a13e-421ec48628ac",
   "metadata": {},
   "source": [
    "If you wish, you may prepare frames or files prior to the Exploration sections.\n",
    "\n",
    "For example, if you want to prepare a frame that is used in multiple Exploration sectons, you may prepare it here."
   ]
  },
  {
   "cell_type": "code",
   "execution_count": 4,
   "id": "14973f76-45f0-4f2d-ab38-faa52ff509d8",
   "metadata": {
    "tags": []
   },
   "outputs": [],
   "source": [
    "# Function to load receipts from JSON files\n",
    "def load_receipts(directory):\n",
    "    receipts = []\n",
    "    for file_path in glob.glob(f'{directory}/*.json'):\n",
    "        with open(file_path, 'r') as file:\n",
    "            receipt = json.load(file)\n",
    "            receipts.append(receipt)\n",
    "    return receipts\n",
    "\n",
    "# Main script\n",
    "directory = 'receipts-json'\n",
    "receipts = load_receipts(directory)"
   ]
  },
  {
   "cell_type": "markdown",
   "id": "0b4d608b-6f9c-49b5-976b-00e26654a94c",
   "metadata": {},
   "source": [
    "---\n",
    "\n",
    "## Exploration One"
   ]
  },
  {
   "cell_type": "markdown",
   "id": "3701463e-2235-4731-9d12-b74eb07c6d80",
   "metadata": {},
   "source": [
    "### Introduction"
   ]
  },
  {
   "cell_type": "markdown",
   "id": "07932bd2-7927-4b2e-b70e-5d87beddb9ec",
   "metadata": {},
   "source": [
    "Be sure to make your aim/question clear.\n",
    "\n",
    "Understanding the annual profit of a business is essential for evaluating its financial health and sustainability. Our aim is to calculate the net profit of each business per year. By analysing these annual profits, businesses can make informed decisions on investments and strategies for growth. This analysis helps in assessing current performance and planning for future profitability. However, it's important to note that initial data often reflects only the net profit, not the gross profit. To gain a more comprehensive understanding of the financial situation, the next step should be to subtract all costs from the revenue to calculate the gross profit. This approach provides a clearer picture of the business's financial dynamics and operational efficiency."
   ]
  },
  {
   "cell_type": "markdown",
   "id": "d4164605-a352-4a3c-b91b-a82308fc5100",
   "metadata": {},
   "source": [
    "### Methods"
   ]
  },
  {
   "cell_type": "code",
   "execution_count": 5,
   "id": "8ac97873-9c05-41c3-8d7f-ff6260893c5f",
   "metadata": {},
   "outputs": [
    {
     "name": "stdout",
     "output_type": "stream",
     "text": [
      "Revenue per Business per Year:\n",
      "Business: Ed's Barber Supplies\n",
      "  Year: 2022 - Gross Net Profit: $15843.00\n",
      "  Year: 2023 - Gross Net Profit: $35541.62\n",
      "  Year: 2024 - Gross Net Profit: $47132.80\n",
      "  Year: 2025 - Gross Net Profit: $55789.68\n",
      "  Year: 2026 - Gross Net Profit: $69863.00\n",
      "  Year: 2027 - Gross Net Profit: $59039.85\n",
      "  Year: 2028 - Gross Net Profit: $58482.48\n",
      "  Year: 2029 - Gross Net Profit: $29114.76\n",
      "Business: Wake Up with Coffee\n",
      "  Year: 2022 - Gross Net Profit: $8752.00\n",
      "  Year: 2023 - Gross Net Profit: $14507.15\n",
      "  Year: 2024 - Gross Net Profit: $21825.22\n",
      "  Year: 2025 - Gross Net Profit: $20013.75\n",
      "  Year: 2026 - Gross Net Profit: $16829.84\n",
      "  Year: 2027 - Gross Net Profit: $25871.98\n",
      "  Year: 2028 - Gross Net Profit: $26398.32\n",
      "  Year: 2029 - Gross Net Profit: $11558.98\n",
      "Business: Penguin Swim School\n",
      "  Year: 2022 - Gross Net Profit: $6650.00\n",
      "  Year: 2023 - Gross Net Profit: $24567.98\n",
      "  Year: 2024 - Gross Net Profit: $24051.95\n",
      "  Year: 2025 - Gross Net Profit: $29405.12\n",
      "  Year: 2026 - Gross Net Profit: $29035.93\n",
      "  Year: 2027 - Gross Net Profit: $31711.70\n",
      "  Year: 2028 - Gross Net Profit: $26452.38\n",
      "  Year: 2029 - Gross Net Profit: $288.98\n"
     ]
    }
   ],
   "source": [
    "# Function to calculate revenue per business per year\n",
    "def calculate_revenue(receipts):\n",
    "    revenue_per_year = defaultdict(lambda: defaultdict(float))\n",
    "    for receipt in receipts:\n",
    "        business_name = receipt[\"Business\"][\"Name\"]\n",
    "        date_str = receipt[\"Date\"]\n",
    "        total_amount = receipt[\"Total\"]\n",
    "        date_obj = datetime.strptime(date_str, \"%Y/%m/%d\")\n",
    "        year = date_obj.year\n",
    "        revenue_per_year[business_name][year] += total_amount\n",
    "    return revenue_per_year\n",
    "\n",
    "# Calculate revenue\n",
    "revenue_per_year = calculate_revenue(receipts)\n",
    "print(\"Revenue per Business per Year:\")\n",
    "for business, yearly_revenue in revenue_per_year.items():\n",
    "    print(f\"Business: {business}\")\n",
    "    for year in sorted(yearly_revenue):\n",
    "        total_revenue = yearly_revenue[year]\n",
    "        print(f\"  Year: {year} - Gross Net Profit: ${total_revenue:.2f}\")"
   ]
  },
  {
   "cell_type": "markdown",
   "id": "b2e900fe-2d73-4661-8f96-057b37060ff3",
   "metadata": {},
   "source": [
    "### Discussion"
   ]
  },
  {
   "cell_type": "markdown",
   "id": "f66d2f44-5168-46e3-916a-2748ce9d7e45",
   "metadata": {
    "tags": []
   },
   "source": [
    "What did you find out? You may make reference to or include small portions of the frames generated in your methods."
   ]
  },
  {
   "cell_type": "raw",
   "id": "fd14f4e3-2279-4d58-8241-d4883baedf91",
   "metadata": {},
   "source": [
    "Ed's Barber Supplies shows a significant increase in net profit from 2022 to 2026, reaching a peak of $69,863.00 in 2026. However, there is a notable decline in profits in 2029, suggesting potential operational or market challenges. Wake Up with Coffee demonstrates similar trends with a steady rise in profits from 2022 to 2024, followed by fluctuations. The highest profit occurs in 2028 at $26,398.32, but a sharp decrease is observed in 2029. Penguin Swim School experiences substantial growth in profits from 2022 to 2023 and maintains relatively high profits through 2027. However, a dramatic drop in profits in 2029 indicates possible significant operational issues or market changes. All three companies suffered significant declines in 2029, highlighting a need for further investigation into the causes and potential solutions. Ed's Barber Supplies and Wake Up with Coffee experienced a 50.23% and 56.20% decrease in net profit, respectively. However, the most shocking difference is the 98.91% decrease in net profit for Penguin Swim School. This near-total collapse in profitability suggests severe operational issues or drastic market changes. "
   ]
  },
  {
   "cell_type": "markdown",
   "id": "8b535516-ee64-4f93-9a7a-9b62a599aac4",
   "metadata": {},
   "source": [
    "---\n",
    "\n",
    "## Exploration Two"
   ]
  },
  {
   "cell_type": "markdown",
   "id": "9f4b3f21-2897-4fce-a814-f1409a20698a",
   "metadata": {},
   "source": [
    "### Introduction"
   ]
  },
  {
   "cell_type": "markdown",
   "id": "f6683df7-c922-41e6-bf3e-c58712588a21",
   "metadata": {},
   "source": [
    "What was the most popular product for each business in each year?\n",
    "\n",
    "Understanding the popularity of products is crucial for evaluating a business's market performance and consumer preferences. Our goal is to identify the most popular product for each business each year. By analysing these preferences, businesses can make informed decisions on inventory management, marketing strategies, and product development. This analysis aids in assessing current consumer trends and planning for future product offerings. However, initial data often reflects only sales volume, not the profitability of each product. "
   ]
  },
  {
   "cell_type": "markdown",
   "id": "1e29c78e-68e9-4c3d-86d9-da97ccc969dc",
   "metadata": {},
   "source": [
    "### Methods"
   ]
  },
  {
   "cell_type": "code",
   "execution_count": 6,
   "id": "6af41f30-8999-40fa-ba02-2a54da3de852",
   "metadata": {},
   "outputs": [
    {
     "name": "stdout",
     "output_type": "stream",
     "text": [
      "\n",
      "Most Popular Products per Business per Year:\n",
      "Business: Ed's Barber Supplies\n",
      "  Year: 2022 - Most Popular Product: Soap 500mL (Quantity Sold: 171)\n",
      "  Year: 2023 - Most Popular Product: Soap 500mL (Quantity Sold: 334)\n",
      "  Year: 2024 - Most Popular Product: Razorblade (Quantity Sold: 309)\n",
      "  Year: 2025 - Most Popular Product: Broom (Quantity Sold: 358)\n",
      "  Year: 2026 - Most Popular Product: Cape white (Quantity Sold: 384)\n",
      "  Year: 2027 - Most Popular Product: Soap 500mL (Quantity Sold: 372)\n",
      "  Year: 2028 - Most Popular Product: Shaving cream (Quantity Sold: 382)\n",
      "  Year: 2029 - Most Popular Product: Spray bottle (Quantity Sold: 221)\n",
      "Business: Wake Up with Coffee\n",
      "  Year: 2022 - Most Popular Product: Mocha (Quantity Sold: 200)\n",
      "  Year: 2023 - Most Popular Product: Ham toastie (Quantity Sold: 402)\n",
      "  Year: 2024 - Most Popular Product: Ham bagel (Quantity Sold: 440)\n",
      "  Year: 2025 - Most Popular Product: Salmon bagel (Quantity Sold: 481)\n",
      "  Year: 2026 - Most Popular Product: Long Black (Quantity Sold: 542)\n",
      "  Year: 2027 - Most Popular Product: Cupcake (Quantity Sold: 543)\n",
      "  Year: 2028 - Most Popular Product: Long Black (Quantity Sold: 547)\n",
      "  Year: 2029 - Most Popular Product: English muffin (Quantity Sold: 305)\n",
      "Business: Penguin Swim School\n",
      "  Year: 2022 - Most Popular Product: Water bottle (Quantity Sold: 114)\n",
      "  Year: 2023 - Most Popular Product: Aquaerobics (Quantity Sold: 259)\n",
      "  Year: 2024 - Most Popular Product: Water bottle (Quantity Sold: 269)\n",
      "  Year: 2025 - Most Popular Product: Waterpolo (Quantity Sold: 296)\n",
      "  Year: 2026 - Most Popular Product: Shampoo (Quantity Sold: 282)\n",
      "  Year: 2027 - Most Popular Product: Infant lesson (Quantity Sold: 298)\n",
      "  Year: 2028 - Most Popular Product: Aquaerobics (Quantity Sold: 304)\n",
      "  Year: 2029 - Most Popular Product: Aquaerobics (Quantity Sold: 7)\n"
     ]
    }
   ],
   "source": [
    "# Function to find the most popular product per business per year\n",
    "def calculate_product_sales(receipts):\n",
    "    product_sales = defaultdict(lambda: defaultdict(lambda: defaultdict(int)))\n",
    "    for receipt in receipts:\n",
    "        business_name = receipt[\"Business\"][\"Name\"]\n",
    "        date_str = receipt[\"Date\"]\n",
    "        date_obj = datetime.strptime(date_str, \"%Y/%m/%d\")\n",
    "        year = date_obj.year\n",
    "        for product in receipt.get(\"Products\", []):\n",
    "            product_name = product[\"Name\"]\n",
    "            quantity_sold = product[\"Quantity\"]\n",
    "            product_sales[business_name][year][product_name] += quantity_sold\n",
    "    return product_sales\n",
    "\n",
    "# Function to find the most popular product for each business per year\n",
    "def find_most_popular_products(product_sales):\n",
    "    most_popular_products = {}\n",
    "    for business, yearly_sales in product_sales.items():\n",
    "        most_popular_products[business] = {}\n",
    "        for year, products in yearly_sales.items():\n",
    "            most_popular_product = max(products, key=products.get)\n",
    "            most_popular_products[business][year] = (most_popular_product, products[most_popular_product])\n",
    "    return most_popular_products\n",
    "\n",
    "\n",
    "# Calculate product sales and find most popular products\n",
    "product_sales = calculate_product_sales(receipts)\n",
    "most_popular_products = find_most_popular_products(product_sales)\n",
    "print(\"\\nMost Popular Products per Business per Year:\")\n",
    "for business, yearly_products in most_popular_products.items():\n",
    "    print(f\"Business: {business}\")\n",
    "    for year in sorted(yearly_products):\n",
    "        product, quantity = yearly_products[year]\n",
    "        print(f\"  Year: {year} - Most Popular Product: {product} (Quantity Sold: {quantity})\")"
   ]
  },
  {
   "cell_type": "markdown",
   "id": "3037becb-bde9-4897-9428-5c064d851a7d",
   "metadata": {},
   "source": [
    "### Discussion"
   ]
  },
  {
   "cell_type": "markdown",
   "id": "d67f8123-e0d4-49dd-b56d-0a60d56bcc07",
   "metadata": {
    "tags": []
   },
   "source": [
    "What did you find out? You may make reference to or include small portions of the frames generated in your methods."
   ]
  },
  {
   "cell_type": "markdown",
   "id": "5d40b3cd-71fe-43cf-b51c-f185acbf319d",
   "metadata": {},
   "source": [
    "The significant decline in sales at Penguin Swim School in 2029, especially evident with Aquaerobics sales dropping to just 7 units from higher figures in previous years, can be attributed to various factors. Meanwhile, Ed's Barber Supplies consistently sees Soap 500mL as its top-selling product across multiple years, with Rasorblade and Cape white also enjoying periods of high popularity. At Wake Up with Coffee, Mocha led sales in 2022, followed by shifts to Ham toastie, Ham bagel, Long Black, and Cupcake in subsequent years, reflecting changing consumer preferences and product trends. "
   ]
  },
  {
   "cell_type": "markdown",
   "id": "d2a25074-a349-4267-9776-ed200b0cbf9a",
   "metadata": {},
   "source": [
    "---\n",
    "\n",
    "## Exploration Three"
   ]
  },
  {
   "cell_type": "markdown",
   "id": "b6dc2b6a-267d-44fd-b0e8-60f9088bfb46",
   "metadata": {},
   "source": [
    "### Introduction"
   ]
  },
  {
   "cell_type": "markdown",
   "id": "5e029a29-51f1-49bc-a64b-bbebc842404e",
   "metadata": {},
   "source": [
    "Be sure to make your aim/question clear"
   ]
  },
  {
   "cell_type": "markdown",
   "id": "ecaf2540-ab26-47e6-a9d5-c823b2ff7e0c",
   "metadata": {},
   "source": [
    "Which customers were most loyal for each business?\n",
    "\n",
    "Understanding customer loyalty is essential for evaluating a business's customer retention and satisfaction. Our objective is to identify the most loyal customers for each business. By examining loyalty patterns, businesses can make informed decisions on managing customer relationships, developing marketing strategies, and improving services. This analysis helps recognise repeat business trends and plan effective customer retention initiatives. However, initial data often focuses solely on purchase frequency, overlooking the overall value each loyal customer contributes. To gain a more comprehensive view of customer loyalty, it's crucial to consider both the frequency and monetary value of their purchases. This method provides deeper insights into the business's customer dynamics and operational efficiency."
   ]
  },
  {
   "cell_type": "markdown",
   "id": "95e54b41-a555-4f9a-9dfc-97d21c4d5a13",
   "metadata": {},
   "source": [
    "### Methods"
   ]
  },
  {
   "cell_type": "code",
   "execution_count": 7,
   "id": "78169dcd-17c0-49bc-b228-c98ad0c3563e",
   "metadata": {},
   "outputs": [
    {
     "name": "stdout",
     "output_type": "stream",
     "text": [
      "\n",
      "Most Loyal Customers per Business:\n",
      "Business: Wake Up with Coffee\n",
      "  Most Loyal Customer: Scott - Visits: 181\n",
      "Business: Ed's Barber Supplies\n",
      "  Most Loyal Customer: Lisa - Visits: 99\n",
      "Business: Penguin Swim School\n",
      "  Most Loyal Customer: Scott - Visits: 83\n"
     ]
    }
   ],
   "source": [
    "# Function to find the most loyal customer per business\n",
    "def calculate_customer_loyalty(receipts):\n",
    "    visit_count = defaultdict(lambda: defaultdict(int))\n",
    "    for receipt in receipts:\n",
    "        business_name = receipt[\"Business\"][\"Name\"]\n",
    "        customer_name = receipt.get(\"Customer\", {}).get(\"Name\", \"Unknown Customer\")\n",
    "        if customer_name != \"Unknown Customer\":\n",
    "            visit_count[business_name][customer_name] += 1\n",
    "    return visit_count\n",
    "\n",
    "\n",
    "# Function to find the most loyal customers for each business\n",
    "def find_most_loyal_customers(visit_count):\n",
    "    most_loyal_customers = {}\n",
    "    for business, customers in visit_count.items():\n",
    "        max_visits = max(customers.values())\n",
    "        most_loyal_customers[business] = [customer for customer, count in customers.items() if count == max_visits]\n",
    "    return most_loyal_customers\n",
    "\n",
    "\n",
    "# Calculate customer loyalty and find most loyal customers\n",
    "visit_count = calculate_customer_loyalty(receipts)\n",
    "most_loyal_customers = find_most_loyal_customers(visit_count)\n",
    "print(\"\\nMost Loyal Customers per Business:\")\n",
    "for business, loyal_customers in most_loyal_customers.items():\n",
    "    print(f\"Business: {business}\")\n",
    "    for customer in loyal_customers:\n",
    "        print(f\"  Most Loyal Customer: {customer} - Visits: {visit_count[business][customer]}\")"
   ]
  },
  {
   "cell_type": "markdown",
   "id": "981608c9-cafe-41c5-a60b-f1786c8639c6",
   "metadata": {},
   "source": [
    "### Discussion"
   ]
  },
  {
   "cell_type": "markdown",
   "id": "4e4b0b8d-a6cb-4683-830e-4fc4f7eeee21",
   "metadata": {
    "tags": []
   },
   "source": [
    "What did you find out? You may make reference to or include small portions of the frames generated in your methods.\n"
   ]
  },
  {
   "cell_type": "markdown",
   "id": "18275e32-81e3-4e46-8a23-1048b34c04b2",
   "metadata": {},
   "source": [
    "The loyalty data provides intriguing insights into customer behavior at Wake Up with Coffee, Ed's Barber Supplies, and Penguin Swim School. Scott emerges as the most loyal customer for both Wake Up with Coffee (181 visits) and Penguin Swim School (83 visits), with visit counts that significantly exceed those of other customers. This discrepancy suggests potential data entry anomalies rather than reflecting typical customer behavior. Lisa, with 99 visits, stands out as the top patron for Ed's Barber Supplies, demonstrating considerable loyalty.  Examining customer visit counts reveals a mix of outliers and consistent visitation patterns. While Scott's exceptionally high visit frequencies may raise questions about data accuracy, many other customers maintain regular visit counts ranging from the 80s to over 100 at Wake Up with Coffee and Ed's Barber Supplies, and in the 40s and 50s at Penguin Swim School. This indicates a core group of regular customers and robust loyalty across these businesses. Overall, the customer loyalty at these businesses is strong. These findings underscore the importance of accurately recording and analysing customer data to inform effective business strategies. Addressing potential anomalies in loyalty data, such as Scott's unusually high visit counts, can lead to better understanding of customer behavior and more precise targeting of loyalty programs. By leveraging these insights, businesses can optimise marketing efforts, enhance customer satisfaction, and foster long-term customer relationships."
   ]
  },
  {
   "cell_type": "code",
   "execution_count": null,
   "id": "51729646-d1a4-4595-9b09-75d218744f27",
   "metadata": {},
   "outputs": [],
   "source": []
  }
 ],
 "metadata": {
  "kernelspec": {
   "display_name": "Python 3 (ipykernel)",
   "language": "python",
   "name": "python3"
  },
  "language_info": {
   "codemirror_mode": {
    "name": "ipython",
    "version": 3
   },
   "file_extension": ".py",
   "mimetype": "text/x-python",
   "name": "python",
   "nbconvert_exporter": "python",
   "pygments_lexer": "ipython3",
   "version": "3.10.13"
  }
 },
 "nbformat": 4,
 "nbformat_minor": 5
}
